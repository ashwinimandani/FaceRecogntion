{
  "nbformat": 4,
  "nbformat_minor": 0,
  "metadata": {
    "colab": {
      "name": "FaceRecognition.ipynb",
      "provenance": [],
      "collapsed_sections": [],
      "toc_visible": true,
      "mount_file_id": "1IUBR5xw6s6wMcliMbnXr57_vG1n7f-uv",
      "authorship_tag": "ABX9TyNum+c9+4UrNwbP44ypWaJT"
    },
    "kernelspec": {
      "name": "python3",
      "display_name": "Python 3"
    },
    "accelerator": "GPU"
  },
  "cells": [
    {
      "cell_type": "code",
      "metadata": {
        "id": "XizcPUzGFSkB",
        "colab_type": "code",
        "colab": {}
      },
      "source": [
        "import tensorflow as tf\n",
        "from tensorflow import keras\n",
        "import numpy as np\n",
        "import pandas as pd"
      ],
      "execution_count": 0,
      "outputs": []
    },
    {
      "cell_type": "code",
      "metadata": {
        "id": "kBvyy2n5FlEN",
        "colab_type": "code",
        "colab": {}
      },
      "source": [
        "from keras.layers import Dense, Flatten\n",
        "from keras.models import Model\n",
        "from keras.applications.resnet50 import ResNet50 \n",
        "from keras.applications.resnet50 import preprocess_input\n",
        "from keras.preprocessing import image\n",
        "from keras.preprocessing.image import ImageDataGenerator\n",
        "from keras.models import Sequential\n",
        "from PIL import Image\n",
        "import base64\n",
        "import random\n",
        "from keras.models import load_model\n",
        "import cv2\n",
        "from io import BytesIO"
      ],
      "execution_count": 0,
      "outputs": []
    },
    {
      "cell_type": "code",
      "metadata": {
        "id": "wM8_kHzVF_1G",
        "colab_type": "code",
        "colab": {}
      },
      "source": [
        "Image=[299,299]"
      ],
      "execution_count": 0,
      "outputs": []
    },
    {
      "cell_type": "code",
      "metadata": {
        "id": "0ZQa4jAmGDIz",
        "colab_type": "code",
        "colab": {}
      },
      "source": [
        "train_path = '/content/drive/My Drive/DataSets/Face Recognition/Training'\n",
        "valid_path = '/content/drive/My Drive/DataSets/Face Recognition/Test/'\n",
        "\n",
        "resnet = ResNet50(input_shape=Image + [3], weights='imagenet', include_top=False)\n",
        "\n",
        "for layer in resnet.layers:\n",
        "  layer.trainable = False  \n",
        "\n",
        "x = Flatten()(resnet.output)\n",
        "x = Dense(1000, activation='relu')(x)\n",
        "prediction = Dense(2, activation='softmax')(x)\n",
        "\n",
        "model = Model(inputs=resnet.input, outputs=prediction)\n",
        "model.summary()\n",
        "model.compile(\n",
        "  loss='categorical_crossentropy',\n",
        "  optimizer='adam',\n",
        "  metrics=['accuracy']\n",
        ")"
      ],
      "execution_count": 0,
      "outputs": []
    },
    {
      "cell_type": "code",
      "metadata": {
        "id": "hNfgV731GtEr",
        "colab_type": "code",
        "colab": {}
      },
      "source": [
        "from keras.preprocessing.image import ImageDataGenerator,array_to_img,img_to_array,load_img\n",
        "training_data_gen=ImageDataGenerator(rotation_range=40,\n",
        "                            width_shift_range=0.2,\n",
        "                            height_shift_range=0.2,\n",
        "                            shear_range=0.2,\n",
        "                            zoom_range=0.2,\n",
        "                            horizontal_flip=True,\n",
        "                            rescale=1./255,\n",
        "                            fill_mode=\"nearest\")\n",
        "\n",
        "test_data_gen=ImageDataGenerator(rescale=1.0/255)\n",
        "\n",
        "training_set = training_data_gen.flow_from_directory('/content/drive/My Drive/DataSets/Face Recognition/Training',\n",
        "                                                 target_size = (299, 299),\n",
        "                                                 batch_size = 16,\n",
        "                                                 class_mode = 'categorical')\n",
        "\n",
        "test_set = test_data_gen.flow_from_directory('/content/drive/My Drive/DataSets/Face Recognition/Test',\n",
        "                                            target_size = (299, 299),\n",
        "                                            batch_size = 16,\n",
        "                                            class_mode = 'categorical')\n",
        "\n"
      ],
      "execution_count": 0,
      "outputs": []
    },
    {
      "cell_type": "code",
      "metadata": {
        "id": "n_129abHG_uf",
        "colab_type": "code",
        "colab": {}
      },
      "source": [
        "r = model.fit_generator(\n",
        "  training_set,\n",
        "  validation_data=test_set,\n",
        "  epochs=2,\n",
        "  steps_per_epoch=len(training_set),\n",
        "  validation_steps=len(test_set)\n",
        ")"
      ],
      "execution_count": 0,
      "outputs": []
    },
    {
      "cell_type": "code",
      "metadata": {
        "id": "TVadDCZyHKk9",
        "colab_type": "code",
        "colab": {}
      },
      "source": [
        "from keras.models import load_model\n",
        "\n",
        "model.save('facerecognition.h5')"
      ],
      "execution_count": 0,
      "outputs": []
    },
    {
      "cell_type": "code",
      "metadata": {
        "id": "q_fJLe4qH86s",
        "colab_type": "code",
        "colab": {}
      },
      "source": [
        "model=load_model(\"/content/facerecognition.h5\")"
      ],
      "execution_count": 0,
      "outputs": []
    },
    {
      "cell_type": "code",
      "metadata": {
        "id": "rTbXpB7XmygN",
        "colab_type": "code",
        "colab": {}
      },
      "source": [
        "import cv2\n",
        "photo = cv2.imread(\"photo.jpg\")\n",
        "photo=cv2.resize(photo,(299,299))\n",
        "fullbody_classifier=cv2 .CascadeClassifier(\"/content/drive/My Drive/CNN Dataset/haarcascade_frontalface_default.xml\")\n",
        "faces=fullbody_classifier.detectMultiScale(photo,1.3,2)\n",
        "for x,y,w,h in faces:\n",
        "    face = photo[y:y+h, x:x+w]\n",
        "    if type(face) is np.ndarray:\n",
        "      face = cv2.resize(face, (299,299))\n",
        "      im = Image.fromarray(face, 'RGB')\n",
        "      img_array = np.array(im)\n",
        "      img_array = np.expand_dims(img_array, axis=0)\n",
        "      pred = model.predict(img_array)          \n",
        "      name=\"\"\n",
        "      if(pred[0][0]>0.5):\n",
        "        name='ASHWINI'\n",
        "        cv2.putText(photo,name,(x,y), cv2.FONT_HERSHEY_COMPLEX, 1, (0,255,0), 2)\n",
        "        cv2.imshow(photo)\n",
        "\n",
        "      elif(pred[0][1]>0.5):\n",
        "        name='KASHISH'\n",
        "        cv2.putText(photo,name,(x,y), cv2.FONT_HERSHEY_COMPLEX, 1, (0,255,0), 2)\n",
        "        cv2.imshow(photo)\n",
        "\n",
        "    else:\n",
        "      print(\"No face found\")\n",
        "\n",
        "\n",
        "    cv2.destroyAllWindows()"
      ],
      "execution_count": 0,
      "outputs": []
    },
    {
      "cell_type": "code",
      "metadata": {
        "id": "wKfWYiOAnjcg",
        "colab_type": "code",
        "outputId": "4ef9b489-714a-43a5-8f59-ef9eb7ff33ee",
        "colab": {
          "base_uri": "https://localhost:8080/",
          "height": 17
        }
      },
      "source": [
        ""
      ],
      "execution_count": 0,
      "outputs": [
        {
          "output_type": "display_data",
          "data": {
            "text/html": [
              "<script src='https://www.gstatic.com/external_hosted/mathjax/latest/MathJax.js?config=default'></script>"
            ],
            "text/plain": [
              "<IPython.core.display.HTML object>"
            ]
          },
          "metadata": {
            "tags": []
          }
        },
        {
          "output_type": "display_data",
          "data": {
            "text/html": [
              "<script src='https://www.gstatic.com/external_hosted/mathjax/latest/MathJax.js?config=default'></script>"
            ],
            "text/plain": [
              "<IPython.core.display.HTML object>"
            ]
          },
          "metadata": {
            "tags": []
          }
        },
        {
          "output_type": "display_data",
          "data": {
            "text/html": [
              "<script src='https://www.gstatic.com/external_hosted/mathjax/latest/MathJax.js?config=default'></script>"
            ],
            "text/plain": [
              "<IPython.core.display.HTML object>"
            ]
          },
          "metadata": {
            "tags": []
          }
        }
      ]
    },
    {
      "cell_type": "code",
      "metadata": {
        "id": "UDTbNwGroIjk",
        "colab_type": "code",
        "outputId": "c172e2eb-f579-4bd6-e263-b6b7c8e3f9c0",
        "colab": {
          "base_uri": "https://localhost:8080/",
          "height": 17
        }
      },
      "source": [
        ""
      ],
      "execution_count": 0,
      "outputs": [
        {
          "output_type": "display_data",
          "data": {
            "text/html": [
              "<script src='https://www.gstatic.com/external_hosted/mathjax/latest/MathJax.js?config=default'></script>"
            ],
            "text/plain": [
              "<IPython.core.display.HTML object>"
            ]
          },
          "metadata": {
            "tags": []
          }
        },
        {
          "output_type": "display_data",
          "data": {
            "text/html": [
              "<script src='https://www.gstatic.com/external_hosted/mathjax/latest/MathJax.js?config=default'></script>"
            ],
            "text/plain": [
              "<IPython.core.display.HTML object>"
            ]
          },
          "metadata": {
            "tags": []
          }
        },
        {
          "output_type": "display_data",
          "data": {
            "text/html": [
              "<script src='https://www.gstatic.com/external_hosted/mathjax/latest/MathJax.js?config=default'></script>"
            ],
            "text/plain": [
              "<IPython.core.display.HTML object>"
            ]
          },
          "metadata": {
            "tags": []
          }
        }
      ]
    },
    {
      "cell_type": "code",
      "metadata": {
        "id": "fmwgQTupvMEB",
        "colab_type": "code",
        "colab": {}
      },
      "source": [
        ""
      ],
      "execution_count": 0,
      "outputs": []
    }
  ]
}